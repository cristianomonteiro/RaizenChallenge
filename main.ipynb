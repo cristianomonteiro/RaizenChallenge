{
 "cells": [
  {
   "cell_type": "markdown",
   "metadata": {},
   "source": [
    "# Technical challenge - Cristiano Martins Monteiro"
   ]
  },
  {
   "cell_type": "markdown",
   "metadata": {},
   "source": [
    "Importing the libraries"
   ]
  },
  {
   "cell_type": "code",
   "execution_count": 93,
   "metadata": {},
   "outputs": [],
   "source": [
    "import pandas as pd\n",
    "import numpy as np\n",
    "from pulp import LpProblem, LpVariable, LpBinary, get_solver, PULP_CBC_CMD"
   ]
  },
  {
   "cell_type": "markdown",
   "metadata": {},
   "source": [
    "Defining the classes"
   ]
  },
  {
   "cell_type": "code",
   "execution_count": 94,
   "metadata": {},
   "outputs": [],
   "source": [
    "# This Item class is a super-class for Cylinder, Box and Container. It defines the instances' identifier and optimization variables.\n",
    "class Item:\n",
    "    def __init__(self, identifier):\n",
    "        self.identifier = identifier\n",
    "\n",
    "        # In this proposed formulation, the boxes do not need a variable.\n",
    "        if not isinstance(self, Box):\n",
    "            self.variable = LpVariable(name=identifier, cat=LpBinary)\n",
    "\n",
    "    # Converts a list of Item's variables to a Numpy array and sums it.\n",
    "    @staticmethod\n",
    "    def sum_variables(list_of_items):\n",
    "        numpy_array = np.asarray([item.variable for item in list_of_items])\n",
    "        return np.sum(numpy_array)\n",
    "    \n",
    "    # Builds a Numpy array of cylinder variables multiplying each cylinder's weight and volume.\n",
    "    @staticmethod\n",
    "    def volume_weight_times_cylinders_vars(list_of_cylinders):\n",
    "        # Builds an array with two columns: the first one multiplying the volumes to the variables,\n",
    "        #                                   and the second one multiplying the weights to the variables.\n",
    "        numpy_array = np.asarray([( cylinder.volume * cylinder.variable,\n",
    "                                    cylinder.weight * cylinder.variable) for cylinder in list_of_cylinders])\n",
    "\n",
    "        # Sum the arrays according with the columns (axis = 1). This sum will return one value for each column (volume and weight).\n",
    "        result = np.sum(numpy_array, axis=1)\n",
    "        return result[0], result[1]\n",
    "\n",
    "# Defines the cylinders.\n",
    "class Cylinder(Item):\n",
    "    def __init__(self, identifier, weight, volume, density, box):\n",
    "        super().__init__(identifier)\n",
    "\n",
    "        self.weight = weight\n",
    "        self.volume = volume\n",
    "        self.density = density\n",
    "\n",
    "        # Each cylinder is inside a box. Both cylinder and box has a reference to each other.\n",
    "        self.box = box\n",
    "        self.box.cylinders.append(self)\n",
    "\n",
    "# Defines the boxes.\n",
    "class Box(Item):\n",
    "    def __init__(self, identifier, container):\n",
    "        super().__init__(identifier)\n",
    "\n",
    "        # Maintains the box's cylinders.\n",
    "        self.cylinders = list()\n",
    "\n",
    "        # Each box is inside a container. Both box and container has a reference to each other.\n",
    "        self.container = container\n",
    "        self.container.boxes.append(self)\n",
    "\n",
    "# Defines the containers.\n",
    "class Container(Item):\n",
    "    def __init__(self, identifier):\n",
    "        super().__init__(identifier)\n",
    "\n",
    "        # Maintains the container's boxes.\n",
    "        self.boxes = list()"
   ]
  },
  {
   "cell_type": "markdown",
   "metadata": {},
   "source": [
    "Reading the data and constructing the instances"
   ]
  },
  {
   "cell_type": "code",
   "execution_count": 95,
   "metadata": {},
   "outputs": [],
   "source": [
    "# Loading a data frame with only the columns and rows with data.\n",
    "data_frame = pd.read_excel('Avaliacao_Otimizacao.xlsx', usecols='C:H', skiprows=18)\n",
    "\n",
    "# Defining dictionaries to store all items. The key for each item is its identifier attribute.\n",
    "containers = dict()\n",
    "boxes = dict()\n",
    "cylinders = dict()\n",
    "# Iterating over the data\n",
    "for index, row in data_frame.iterrows():\n",
    "    # Setting the identifier of each item\n",
    "    container_id = row['Container']\n",
    "    box_id = container_id + '-' + row['Box']\n",
    "    cylinder_id = box_id + '-' + str(row['Cylinder'])\n",
    "\n",
    "    # Checking if it is the first time this container appears. If not, this container is constructed and stored in the dictionary.\n",
    "    if container_id not in containers:\n",
    "        container = Container(identifier=container_id)\n",
    "        containers[container_id] = container\n",
    "    # Accessing the already constructed container.\n",
    "    else:\n",
    "        container = containers[container_id]\n",
    "    \n",
    "    # Checking and doing the same, but for the box.\n",
    "    if box_id not in boxes:\n",
    "        box = Box(identifier=box_id, container=container)\n",
    "        boxes[box_id] = box\n",
    "    else:\n",
    "        box = boxes[box_id]\n",
    "    \n",
    "    # Checking is not required for cylinders because every line in the data frame is a new cylinder.\n",
    "    cylinder = Cylinder(identifier=cylinder_id,\n",
    "                        weight=row['Cylinder weight (g)'],\n",
    "                        volume=row['Cylinder volume (mL)'],\n",
    "                        density=row['Density (g/mL)'],\n",
    "                        box=box)\n",
    "    cylinders[cylinder_id] = cylinder"
   ]
  },
  {
   "cell_type": "markdown",
   "metadata": {},
   "source": [
    "Building the optimization model"
   ]
  },
  {
   "cell_type": "code",
   "execution_count": 96,
   "metadata": {},
   "outputs": [],
   "source": [
    "# Defining the optimization model object.\n",
    "problem = LpProblem(name=\"Raizen_Challenge\")\n",
    "\n",
    "# Defining the objective function. For this problem, any feasible solution is good enough.\n",
    "sum_all_containers_vars = Item.sum_variables(containers.values())\n",
    "sum_all_cylinders_vars = Item.sum_variables(cylinders.values())\n",
    "problem += 0 * sum_all_containers_vars + 0 * sum_all_cylinders_vars, \"Sum of Zeros. Any feasible solution is good enough.\"\n",
    "\n",
    "# Defining the constraints. The constraints are defined in the same order they are described in the challenge.\n",
    "problem += sum_all_containers_vars == 35, \"Choosing exactly 35 containers.\"\n",
    "\n",
    "sum_volume_cylinders_vars, sum_weight_cylinders_vars = Item.volume_weight_times_cylinders_vars(cylinders.values())\n",
    "TOTAL_VOLUME = 5163.69\n",
    "problem += sum_volume_cylinders_vars == TOTAL_VOLUME, \"The selected cylinders' volume must sum to this value.\"\n",
    "\n",
    "TOTAL_WEIGHT = 18844\n",
    "problem += sum_weight_cylinders_vars == TOTAL_WEIGHT, \"The selected cylinders together must weigh this much.\"\n",
    "\n",
    "for container in containers.values():\n",
    "    for box in container.boxes:\n",
    "        sum_cylinders_of_box_vars = Item.sum_variables(box.cylinders)\n",
    "        # If a container is selected, at least one cylinder from any of its boxes must be selected as well.\n",
    "        # The len(box.cylinders) works as a Big M.\n",
    "        problem += len(box.cylinders) * container.variable >= sum_cylinders_of_box_vars, \"At least one box must be used for each chosen container \" + box.identifier + \".\"\n",
    "        problem += sum_cylinders_of_box_vars <= 1, \"Choosing at maximum one cylinder per box \" + box.identifier + \".\""
   ]
  },
  {
   "cell_type": "markdown",
   "metadata": {},
   "source": [
    "Solving the MIP"
   ]
  },
  {
   "cell_type": "code",
   "execution_count": 97,
   "metadata": {},
   "outputs": [
    {
     "name": "stdout",
     "output_type": "stream",
     "text": [
      "Welcome to the CBC MILP Solver \n",
      "Version: 2.10.5 \n",
      "Build Date: Oct 15 2020 \n",
      "\n",
      "command line - cbc /tmp/0f76263493f649638a0a32c2b78636e1-pulp.mps timeMode elapsed branch printingOptions all solution /tmp/0f76263493f649638a0a32c2b78636e1-pulp.sol (default strategy 1)\n",
      "At line 2 NAME          MODEL\n",
      "At line 3 ROWS\n",
      "At line 126 COLUMNS\n",
      "At line 1953 RHS\n",
      "At line 2075 BOUNDS\n",
      "At line 2528 ENDATA\n",
      "Problem MODEL has 121 rows, 452 columns and 923 elements\n",
      "Coin0008I MODEL read with 0 errors\n",
      "Option for timeMode changed from cpu to elapsed\n",
      "Problem is infeasible - 0.00 seconds\n",
      "Option for printingOptions changed from normal to all\n",
      "Total time (CPU seconds):       0.00   (Wallclock seconds):       0.01\n",
      "\n"
     ]
    },
    {
     "data": {
      "text/plain": [
       "-1"
      ]
     },
     "execution_count": 97,
     "metadata": {},
     "output_type": "execute_result"
    }
   ],
   "source": [
    "solver = get_solver('COIN_CMD')\n",
    "problem.solve(solver)"
   ]
  }
 ],
 "metadata": {
  "kernelspec": {
   "display_name": "Python 3.9.7 ('base')",
   "language": "python",
   "name": "python3"
  },
  "language_info": {
   "codemirror_mode": {
    "name": "ipython",
    "version": 3
   },
   "file_extension": ".py",
   "mimetype": "text/x-python",
   "name": "python",
   "nbconvert_exporter": "python",
   "pygments_lexer": "ipython3",
   "version": "3.9.7"
  },
  "orig_nbformat": 4,
  "vscode": {
   "interpreter": {
    "hash": "b04396ebd4f74f170fc7886f30f673a7231b611b6a244b83ebde391c4c23e86b"
   }
  }
 },
 "nbformat": 4,
 "nbformat_minor": 2
}
