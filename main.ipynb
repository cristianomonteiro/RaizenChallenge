{
 "cells": [
  {
   "cell_type": "markdown",
   "metadata": {},
   "source": [
    "# Technical challenge | Cristiano Martins Monteiro"
   ]
  },
  {
   "cell_type": "markdown",
   "metadata": {},
   "source": [
    "Importing the libraries"
   ]
  },
  {
   "cell_type": "code",
   "execution_count": 41,
   "metadata": {},
   "outputs": [],
   "source": [
    "import pandas as pd\n",
    "import numpy as np\n",
    "from pulp import LpProblem, LpVariable, LpBinary, get_solver, LpStatusOptimal\n",
    "from pathlib import Path\n",
    "import os.path"
   ]
  },
  {
   "cell_type": "markdown",
   "metadata": {},
   "source": [
    "Defining the classes"
   ]
  },
  {
   "cell_type": "code",
   "execution_count": 42,
   "metadata": {},
   "outputs": [],
   "source": [
    "# This Item class is a super-class for Cylinder, Box and Container. It defines the instances' identifier and optimization variables.\n",
    "class Item:\n",
    "    def __init__(self, identifier):\n",
    "        self.identifier = identifier\n",
    "\n",
    "        # In this proposed formulation, the boxes do not need a variable.\n",
    "        if not isinstance(self, Box):\n",
    "            self.variable = LpVariable(name=identifier, cat=LpBinary)\n",
    "\n",
    "    # Converts a list of Item's variables to a Numpy array and sums it.\n",
    "    @staticmethod\n",
    "    def sum_variables(list_of_items):\n",
    "        numpy_array = np.asarray([item.variable for item in list_of_items])\n",
    "        return np.sum(numpy_array)\n",
    "    \n",
    "    # Builds a Numpy array of cylinder variables multiplying each cylinder's weight and volume.\n",
    "    @staticmethod\n",
    "    def volume_weight_times_cylinders_vars(list_of_cylinders):\n",
    "        # Builds an array with two columns: the first one multiplying the volumes to the variables,\n",
    "        #                                   and the second one multiplying the weights to the variables.\n",
    "        numpy_array = np.asarray([( cylinder.volume * cylinder.variable,\n",
    "                                    cylinder.weight * cylinder.variable) for cylinder in list_of_cylinders])\n",
    "\n",
    "        # Sum the arrays according with the columns (axis = 1). This sum will return one value for each column (volume and weight).\n",
    "        result = np.sum(numpy_array, axis=0)\n",
    "        return result[0], result[1]\n",
    "\n",
    "# Defines the cylinders.\n",
    "class Cylinder(Item):\n",
    "    def __init__(self, identifier, weight, volume, density, box):\n",
    "        super().__init__(identifier)\n",
    "\n",
    "        self.weight = weight\n",
    "        self.volume = volume\n",
    "        self.density = density\n",
    "\n",
    "        # Each cylinder is inside a box. Both cylinder and box has a reference to each other.\n",
    "        self.box = box\n",
    "        self.box.cylinders.append(self)\n",
    "\n",
    "# Defines the boxes.\n",
    "class Box(Item):\n",
    "    def __init__(self, identifier, container):\n",
    "        super().__init__(identifier)\n",
    "\n",
    "        # Maintains the box's cylinders.\n",
    "        self.cylinders = list()\n",
    "\n",
    "        # Each box is inside a container. Both box and container has a reference to each other.\n",
    "        self.container = container\n",
    "        self.container.boxes.append(self)\n",
    "\n",
    "# Defines the containers.\n",
    "class Container(Item):\n",
    "    def __init__(self, identifier):\n",
    "        super().__init__(identifier)\n",
    "\n",
    "        # Maintains the container's boxes.\n",
    "        self.boxes = list()"
   ]
  },
  {
   "cell_type": "markdown",
   "metadata": {},
   "source": [
    "Reading the data and constructing the instances"
   ]
  },
  {
   "cell_type": "code",
   "execution_count": 43,
   "metadata": {},
   "outputs": [],
   "source": [
    "# Loading a data frame with only the columns and rows with data.\n",
    "data_frame = pd.read_excel('Avaliacao_Otimizacao.xlsx', usecols='C:H', skiprows=18)\n",
    "\n",
    "# Defining dictionaries to store all items. The key for each item is its identifier attribute.\n",
    "containers = dict()\n",
    "boxes = dict()\n",
    "cylinders = dict()\n",
    "# Iterating over the data\n",
    "for index, row in data_frame.iterrows():\n",
    "    # Setting the identifier of each item\n",
    "    container_id = row['Container']\n",
    "    box_id = container_id + '|' + row['Box']\n",
    "    cylinder_id = box_id + '|' + str(row['Cylinder'])\n",
    "\n",
    "    # Checking if it is the first time this container appears. If not, this container is constructed and stored in the dictionary.\n",
    "    if container_id not in containers:\n",
    "        container = Container(identifier=container_id)\n",
    "        containers[container_id] = container\n",
    "    # Accessing the already constructed container.\n",
    "    else:\n",
    "        container = containers[container_id]\n",
    "    \n",
    "    # Checking and doing the same, but for the box.\n",
    "    if box_id not in boxes:\n",
    "        box = Box(identifier=box_id, container=container)\n",
    "        boxes[box_id] = box\n",
    "    else:\n",
    "        box = boxes[box_id]\n",
    "    \n",
    "    # Checking is not required for cylinders because every line in the data frame is a new cylinder.\n",
    "    cylinder = Cylinder(identifier=cylinder_id,\n",
    "                        weight=row['Cylinder weight (g)'],\n",
    "                        volume=row['Cylinder volume (mL)'],\n",
    "                        density=row['Density (g/mL)'],\n",
    "                        box=box)\n",
    "    cylinders[cylinder_id] = cylinder\n",
    "\n",
    "# Defining the cylinders' identifier as an index for the data_frame rows. Each cylinder's identifier also contains the box and container identifiers.\n",
    "data_frame['identifier'] = [cylinder.identifier for cylinder in cylinders.values()]\n",
    "data_frame = data_frame.set_index('identifier')"
   ]
  },
  {
   "cell_type": "markdown",
   "metadata": {},
   "source": [
    "Building the optimization model"
   ]
  },
  {
   "cell_type": "code",
   "execution_count": 44,
   "metadata": {},
   "outputs": [],
   "source": [
    "# Defining the optimization model object.\n",
    "problem = LpProblem(name=\"Raizen_Challenge\")\n",
    "\n",
    "# Defining the objective function. For this problem, any feasible solution is good enough.\n",
    "sum_all_containers_vars = Item.sum_variables(containers.values())\n",
    "sum_all_cylinders_vars = Item.sum_variables(cylinders.values())\n",
    "problem += 0 * sum_all_containers_vars + 0 * sum_all_cylinders_vars, \"Sum of Zeros. Any feasible solution is good enough.\"\n",
    "\n",
    "# Defining the constraints. The constraints are defined in the same order they are described in the challenge.\n",
    "TOTAL_CONTAINERS = 35\n",
    "problem += sum_all_containers_vars == TOTAL_CONTAINERS, \"Choosing exactly 35 containers.\"\n",
    "\n",
    "sum_volume_cylinders_vars, sum_weight_cylinders_vars = Item.volume_weight_times_cylinders_vars(cylinders.values())\n",
    "TOTAL_VOLUME = 5163.69\n",
    "problem += sum_volume_cylinders_vars == TOTAL_VOLUME, \"The selected cylinders' volume must sum to this value.\"\n",
    "\n",
    "TOTAL_WEIGHT = 18844\n",
    "problem += sum_weight_cylinders_vars == TOTAL_WEIGHT, \"The selected cylinders together must weigh this much.\"\n",
    "\n",
    "for container in containers.values():\n",
    "    for box in container.boxes:\n",
    "        sum_cylinders_of_box_vars = Item.sum_variables(box.cylinders)\n",
    "        # If a container is selected, at least one cylinder from any of its boxes must be selected as well.\n",
    "        # The len(box.cylinders) works as a Big M. Two constraints were needed to tangle the containers to the boxes.\n",
    "        problem += container.variable <= sum_cylinders_of_box_vars, \"When a container is chosen, at least one of its boxes must be used \" + box.identifier + \".\"\n",
    "        problem += len(box.cylinders) * container.variable >= sum_cylinders_of_box_vars, \"When a box is used, its container must be chosen \" + box.identifier + \".\"\n",
    "        problem += sum_cylinders_of_box_vars <= 1, \"Choosing at maximum one cylinder per box \" + box.identifier + \".\""
   ]
  },
  {
   "cell_type": "markdown",
   "metadata": {},
   "source": [
    "Solving the MIP"
   ]
  },
  {
   "cell_type": "code",
   "execution_count": 45,
   "metadata": {},
   "outputs": [],
   "source": [
    "# Defining the solver and setting it to no print log messages\n",
    "solver_object = get_solver(solver='COIN_CMD', msg=0)\n",
    "pulp_status_solve = problem.solve(solver_object)"
   ]
  },
  {
   "cell_type": "markdown",
   "metadata": {},
   "source": [
    "Defining a function for accessing the optimal solution and checking if it is correct"
   ]
  },
  {
   "cell_type": "code",
   "execution_count": 46,
   "metadata": {},
   "outputs": [],
   "source": [
    "# All different optimal solutions will be stored in this set. This set will be used to check if all generated optimal solutions are indeed unique.\n",
    "all_optimal_solutions = set()\n",
    "\n",
    "# Access the current optimal solution. If it is correct, returns the chosen cylinders identifiers and objects in lists. Otherwise, returns None.\n",
    "def evaluate_solution(problem):\n",
    "    used_containers = set()\n",
    "    sum_volumes = 0\n",
    "    sum_weights = 0\n",
    "    used_boxes = set()\n",
    "    chosen_cylinders_ids = list()\n",
    "    chosen_cylinders = list()\n",
    "    for variable in problem.variables():\n",
    "        if variable.varValue == 1:\n",
    "            # It is possible to differentiate containers from cylinders by the number of pipe symbols in the variable's name.\n",
    "            # Container variables have smaller names, with no pipe symbol separating them from the box and cylinder identifiers.\n",
    "            split_variable_name = variable.name.split('|')\n",
    "            if len(split_variable_name) == 1:\n",
    "                used_containers.add(variable.name)\n",
    "\n",
    "                # Asssuring that if the container is chosen, at least one of its cylinders is chosen.\n",
    "                has_chosen_cylinder = False\n",
    "                for box_from_container in containers[variable.name].boxes:\n",
    "                    for cylinder_from_box in box_from_container.cylinders:\n",
    "                        if cylinder_from_box.variable.varValue == 1:\n",
    "                            has_chosen_cylinder = True\n",
    "                            break\n",
    "                if not has_chosen_cylinder:\n",
    "                    return None\n",
    "\n",
    "            # If the variable's name has at least one pipe symbol, then it is a cylinder.\n",
    "            else:\n",
    "                cylinder = cylinders[variable.name]\n",
    "                chosen_cylinders_ids.append(cylinder.identifier)\n",
    "                chosen_cylinders.append(cylinder)\n",
    "                sum_volumes += cylinder.volume\n",
    "                sum_weights += cylinder.weight\n",
    "    \n",
    "                # Boxes are identified by using the container and box identifiers concatenated.\n",
    "                container_box_identifier = split_variable_name[0] + '|' + split_variable_name[1]\n",
    "                # Assuring that if the cylinder is chosen, then the container of the selected cylinder is also chosen.\n",
    "                if cylinder.box.container.variable.varValue != 1:\n",
    "                    return None\n",
    "                # Assuring that all boxes were used at most once.\n",
    "                if container_box_identifier not in used_boxes:\n",
    "                    used_boxes.add(container_box_identifier)\n",
    "                else:\n",
    "                    return None\n",
    "\n",
    "    # Checking if this solution is unique. The solution is converted to one string and checked if it is already stored in all_optimal_solutions\n",
    "    solution_string = ','.join(chosen_cylinders_ids)\n",
    "    if solution_string in all_optimal_solutions:\n",
    "        return None\n",
    "    else:\n",
    "        all_optimal_solutions.add(solution_string)\n",
    "\n",
    "    # Rounding the variables to avoid numerical errors\n",
    "    DIGITS_PRECISION = 2\n",
    "    sum_volumes = round(sum_volumes, DIGITS_PRECISION)\n",
    "    sum_weights = round(sum_weights, DIGITS_PRECISION)\n",
    "    # Checking whether the other metrics are also correct.\n",
    "    if len(used_containers) == TOTAL_CONTAINERS and sum_volumes == TOTAL_VOLUME and sum_weights == TOTAL_WEIGHT:\n",
    "        return chosen_cylinders_ids, chosen_cylinders\n",
    "    else:\n",
    "        return None"
   ]
  },
  {
   "cell_type": "markdown",
   "metadata": {},
   "source": [
    "Defining function for writing the optimal solutions into text files"
   ]
  },
  {
   "cell_type": "code",
   "execution_count": 47,
   "metadata": {},
   "outputs": [],
   "source": [
    "folder_path = Path('./Solutions')\n",
    "# Creates the folder 'Solutions' if it does not exist yet and stores one text file per solution.\n",
    "def write_optimal_solution(optimal_solution, counter_solution):\n",
    "    # Create the folder and also parent folders if they do not exist yet.\n",
    "    folder_path.mkdir(parents=True, exist_ok=True)\n",
    "\n",
    "    file_name = folder_path / (str(counter_solution) + '.txt')\n",
    "    # Creating and writing the file.\n",
    "    with open(file_name, 'w+') as file:\n",
    "        file.write('\\n'.join(cylinder for cylinder in optimal_solution))"
   ]
  },
  {
   "cell_type": "markdown",
   "metadata": {},
   "source": [
    "Checking the optimal solution, looking for different optimal solutions, and storing the found solutions in text files"
   ]
  },
  {
   "cell_type": "code",
   "execution_count": 48,
   "metadata": {},
   "outputs": [],
   "source": [
    "MAX_DIFFERENT_SOLUTIONS = 100\n",
    "# Checking if the last different solution (including the original) was already generated. If so, avoiding generating all solutions.\n",
    "last_file = folder_path / (str(MAX_DIFFERENT_SOLUTIONS + 1) + '.txt')\n",
    "\n",
    "if not last_file.is_file():\n",
    "    counter_different_solutions = 0\n",
    "    # Checking the first found solution. The other iterations will check the possibly different solutions generated.\n",
    "    while pulp_status_solve == LpStatusOptimal and counter_different_solutions <= MAX_DIFFERENT_SOLUTIONS:\n",
    "        solution_return = evaluate_solution(problem)\n",
    "        if solution_return is not None:\n",
    "            optimal_solution, optimal_cylinder_objects = solution_return\n",
    "            write_optimal_solution(optimal_solution, counter_different_solutions + 1)\n",
    "\n",
    "            # Looking for other optimal solutions.\n",
    "            # This additional constraint forces the model to find a solution without at least one of the chosen cylinders.\n",
    "            problem += Item.sum_variables(optimal_cylinder_objects) <= len(optimal_cylinder_objects) - 1, \"Generating different solution \" + str(counter_different_solutions)\n",
    "            pulp_status_solve = problem.solve(solver_object)\n",
    "            counter_different_solutions += 1\n",
    "        else:\n",
    "            break"
   ]
  },
  {
   "cell_type": "markdown",
   "metadata": {},
   "source": [
    "Reading a file and printing its solution"
   ]
  },
  {
   "cell_type": "code",
   "execution_count": 49,
   "metadata": {},
   "outputs": [
    {
     "name": "stdout",
     "output_type": "stream",
     "text": [
      "           Container   Box  Cylinder  Cylinder weight (g)  Cylinder volume (mL)  Density (g/mL)\n",
      "identifier                                                                                     \n",
      "AA|LB_1|1         AA  LB_1         1                  100                 15.72        6.361323\n",
      "AA|LB_2|1         AA  LB_2         1                  196                 71.27        2.750105\n",
      "AB|LB_1|1         AB  LB_1         1                  999                108.35        9.220120\n",
      "AB|LB_2|1         AB  LB_2         1                  343                 78.67        4.359985\n",
      "AC|LB_1|16        AC  LB_1        16                  141                 14.42        9.778086\n",
      "AD|LB_1|1         AD  LB_1         1                   71                 35.50        2.000000\n",
      "AD|LB_2|1         AD  LB_2         1                  176                115.79        1.519993\n",
      "AF|LB_1|14        AF  LB_1        14                  321                226.06        1.419977\n",
      "AG|LB_1|1         AG  LB_1         1                  375                107.45        3.489995\n",
      "AG|LB_2|1         AG  LB_2         1                  310                151.96        2.040011\n",
      "AI|LB_1|7         AI  LB_1         7                  999                286.25        3.489956\n",
      "AI|LB_2|1         AI  LB_2         1                  999                179.03        5.580070\n",
      "AJ|LB_1|9         AJ  LB_1         9                   72                  8.33        8.643457\n",
      "AK|LB_1|4         AK  LB_1         4                  141                 51.27        2.750146\n",
      "AL|LB_1|2         AL  LB_1         2                  999                355.52        2.809968\n",
      "AL|LB_2|1         AL  LB_2         1                  295                 45.74        6.449497\n",
      "AM|LB_1|15        AM  LB_1        15                   39                  5.37        7.262570\n",
      "AM|LB_2|2         AM  LB_2         2                  111                 30.25        3.669421\n",
      "AN|LB_1|22        AN  LB_1        22                  442                137.69        3.210110\n",
      "AN|LB_2|2         AN  LB_2         2                   38                  4.76        7.983193\n",
      "AO|LB_1|11        AO  LB_1        11                  105                 49.07        2.139800\n",
      "AO|LB_2|1         AO  LB_2         1                   20                  2.95        6.779661\n",
      "AQ|LB_1|1         AQ  LB_1         1                   30                  3.04        9.868421\n",
      "A|LB_1|2           A  LB_1         2                  832                 94.87        8.769896\n",
      "B|LB_1|4           B  LB_1         4                  999                545.90        1.830005\n",
      "B|LB_2|2           B  LB_2         2                  106                 20.78        5.101059\n",
      "C|LB_1|1           C  LB_1         1                  182                 44.39        4.100023\n",
      "C|LB_2|2           C  LB_2         2                   38                 18.27        2.079912\n",
      "F|LB_1|8           F  LB_1         8                  191                 24.58        7.770545\n",
      "G|LB_1|1           G  LB_1         1                   43                  5.09        8.447937\n",
      "H|LB_1|2           H  LB_1         2                   15                  7.25        2.068966\n",
      "H|LB_2|1           H  LB_2         1                   38                 14.13        2.689314\n",
      "I|LB_1|1           I  LB_1         1                  505                 50.65        9.970385\n",
      "J|LB_1|4           J  LB_1         4                  999                101.22        9.869591\n",
      "J|LB_2|1           J  LB_2         1                  999                178.39        5.600090\n",
      "K|LB_1|1           K  LB_1         1                   74                  8.46        8.747045\n",
      "L|LB_1|1           L  LB_1         1                    5                  0.70        7.142857\n",
      "M|LB_1|5           M  LB_1         5                    7                  0.79        8.860759\n",
      "M|LB_2|1           M  LB_2         1                  999                112.25        8.899777\n",
      "N|LB_1|13          N  LB_1        13                  999                640.38        1.560011\n",
      "O|LB_1|2           O  LB_1         2                  597                175.07        3.410065\n",
      "P|LB_1|4           P  LB_1         4                    5                  2.75        1.818182\n",
      "Q|LB_1|4           Q  LB_1         4                  999                329.70        3.030027\n",
      "R|LB_1|6           R  LB_1         6                  180                 22.67        7.940009\n",
      "S|LB_1|7           S  LB_1         7                  277                 67.23        4.120184\n",
      "T|LB_1|1           T  LB_1         1                  216                 90.00        2.400000\n",
      "T|LB_2|4           T  LB_2         4                  999                304.57        3.280034\n",
      "U|LB_1|4           U  LB_1         4                  999                108.23        9.230343\n",
      "U|LB_2|2           U  LB_2         2                    6                  3.80        1.578947\n",
      "X|LB_1|14          X  LB_1        14                  153                 91.62        1.669941\n",
      "Y|LB_1|1           Y  LB_1         1                   19                  6.19        3.069467\n",
      "Y|LB_2|3           Y  LB_2         3                   41                  9.30        4.408602\n"
     ]
    }
   ],
   "source": [
    "# Printing the whole row without breaking the line.\n",
    "MAX_ROWS_PRINT = 100\n",
    "MAX_COLUMNS_PRINT = 10\n",
    "MAX_CHARACTERS_PRINT = MAX_ROWS_PRINT * MAX_COLUMNS_PRINT\n",
    "pd.set_option('display.max_rows', MAX_ROWS_PRINT)\n",
    "pd.set_option('display.max_columns', MAX_COLUMNS_PRINT)\n",
    "pd.set_option('display.width', MAX_CHARACTERS_PRINT)\n",
    "\n",
    "file_to_read = 1\n",
    "file_name = 'Solutions/' + str(file_to_read) + '.txt'\n",
    "if os.path.exists(file_name):\n",
    "    file = open(file_name, 'r')\n",
    "    # Read the file and converts it to a list of strings.\n",
    "    # It is better than the readlines() function because it already removes the '\\n' characters.\n",
    "    optimal_solution = file.read().splitlines()\n",
    "    print(data_frame.loc[optimal_solution])\n",
    "else:\n",
    "    print('File not found. Please select other solution.')"
   ]
  }
 ],
 "metadata": {
  "kernelspec": {
   "display_name": "Python 3.9.7 ('base')",
   "language": "python",
   "name": "python3"
  },
  "language_info": {
   "codemirror_mode": {
    "name": "ipython",
    "version": 3
   },
   "file_extension": ".py",
   "mimetype": "text/x-python",
   "name": "python",
   "nbconvert_exporter": "python",
   "pygments_lexer": "ipython3",
   "version": "3.9.7"
  },
  "orig_nbformat": 4,
  "vscode": {
   "interpreter": {
    "hash": "b04396ebd4f74f170fc7886f30f673a7231b611b6a244b83ebde391c4c23e86b"
   }
  }
 },
 "nbformat": 4,
 "nbformat_minor": 2
}
